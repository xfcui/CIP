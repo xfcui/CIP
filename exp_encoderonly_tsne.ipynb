{
 "cells": [
  {
   "cell_type": "code",
   "execution_count": null,
   "metadata": {},
   "outputs": [],
   "source": [
    "import json\n",
    "import numpy as np\n",
    "import pandas as pd\n",
    "import matplotlib.pyplot as plt\n",
    "from sklearn.manifold import TSNE\n",
    "\n",
    "\n",
    "features_path = './exp/feature_encoderonly.json' \n",
    "features = []\n",
    "\n",
    "with open(features_path, 'r') as f:\n",
    "    for line in f:\n",
    "        features.append(json.loads(line.strip())[0])\n",
    "\n",
    "features = np.array(features)\n",
    "\n",
    "\n",
    "assert features.ndim == 2, \"Features should be a 2D array.\"\n",
    "\n",
    "labels_path = './exp/affinity.csv'\n",
    "labels_df = pd.read_csv(labels_path)\n",
    "affinities = labels_df['Affinity'].values\n",
    "\n",
    "assert features.shape[0] == len(affinities), \"Number of samples in features and labels do not match.\"\n",
    "\n",
    "\n",
    "tsne = TSNE(n_components=2) # random_state\n",
    "features_tsne = tsne.fit_transform(features)\n",
    "\n",
    "\n",
    "plt.figure(figsize=(10, 7))\n",
    "scatter = plt.scatter(features_tsne[:, 0], features_tsne[:, 1], c=affinities, cmap='coolwarm', s=50, alpha=0.7, edgecolors='w')\n",
    "plt.title('t-SNE Visualization of High-Dimensional Features with Binding Affinity')\n",
    "plt.xlabel('t-SNE Feature 1')\n",
    "plt.ylabel('t-SNE Feature 2')\n",
    "cbar = plt.colorbar(scatter)\n",
    "cbar.set_label('Binding Affinity')\n",
    "plt.show()"
   ]
  }
 ],
 "metadata": {
  "language_info": {
   "codemirror_mode": {
    "name": "ipython",
    "version": 3
   },
   "file_extension": ".py",
   "mimetype": "text/x-python",
   "name": "python",
   "nbconvert_exporter": "python",
   "pygments_lexer": "ipython3",
   "version": 3
  }
 },
 "nbformat": 4,
 "nbformat_minor": 2
}
